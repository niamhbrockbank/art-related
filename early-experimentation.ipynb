{
 "cells": [
  {
   "cell_type": "markdown",
   "metadata": {},
   "source": [
    "# Artworks and Artists Experimentation"
   ]
  },
  {
   "cell_type": "markdown",
   "metadata": {},
   "source": [
    "Checking out the data...\n",
    "* What categories are there?\n",
    "* Some fun plotting different variables together\n",
    "* Different ways of plotting the variables together"
   ]
  },
  {
   "cell_type": "code",
   "execution_count": 2,
   "metadata": {},
   "outputs": [
    {
     "name": "stdout",
     "output_type": "stream",
     "text": [
      "       Artist ID             Name Nationality Gender  Birth Year  Death Year\n",
      "0              1   Robert Arneson    American   Male      1930.0      1992.0\n",
      "1              2   Doroteo Arnaiz     Spanish   Male      1936.0         NaN\n",
      "2              3      Bill Arnold    American   Male      1941.0         NaN\n",
      "3              4  Charles Arnoldi    American   Male      1946.0         NaN\n",
      "4              5      Per Arnoldi      Danish   Male      1941.0         NaN\n",
      "...          ...              ...         ...    ...         ...         ...\n",
      "15086      67452      Liu Jianhua     Chinese   Male      1962.0         NaN\n",
      "15087      67453         Leng Lin     Chinese   Male      1965.0         NaN\n",
      "15088      67652     Ellie Nagler         NaN    NaN         NaN         NaN\n",
      "15089      67694   Glenn Williams         NaN   Male         NaN         NaN\n",
      "15090      67695        Ely Ramen         NaN    NaN         NaN         NaN\n",
      "\n",
      "[15091 rows x 6 columns]         Artwork ID                                              Title  \\\n",
      "0                2  Ferdinandsbrücke Project, Vienna, Austria, Ele...   \n",
      "1                3  City of Music, National Superior Conservatory ...   \n",
      "2                4  Villa near Vienna Project, Outside Vienna, Aus...   \n",
      "3                5  The Manhattan Transcripts Project, New York, N...   \n",
      "4                6  Villa, project, outside Vienna, Austria, Exter...   \n",
      "...            ...                                                ...   \n",
      "130257      217983                                        Seul/NY/MAX   \n",
      "130258      217984   Fluxus-Manifestatie in en Rond Kunsthandel Monet   \n",
      "130259      217985                             Fluxphone Compositions   \n",
      "130260      217986                                       Unidentified   \n",
      "130261      218011                           Portrait of Takako Saito   \n",
      "\n",
      "       Artist ID                      Name  Date  \\\n",
      "0           6210               Otto Wagner  1896   \n",
      "1           7470  Christian de Portzamparc  1987   \n",
      "2           7605                Emil Hoppe  1903   \n",
      "3           7056           Bernard Tschumi  1980   \n",
      "4           7605                Emil Hoppe  1903   \n",
      "...          ...                       ...   ...   \n",
      "130257      4469             Nam June Paik   NaN   \n",
      "130258       NaN                       NaN  1962   \n",
      "130259     67695                 Ely Ramen  1969   \n",
      "130260       NaN                       NaN   NaN   \n",
      "130261     21398           George Maciunas   NaN   \n",
      "\n",
      "                                                   Medium  \\\n",
      "0           Ink and cut-and-pasted painted pages on paper   \n",
      "1                       Paint and colored pencil on print   \n",
      "2       Graphite, pen, color pencil, ink, and gouache ...   \n",
      "3       Photographic reproduction with colored synthet...   \n",
      "4       Graphite, color pencil, ink, and gouache on tr...   \n",
      "...                                                   ...   \n",
      "130257                                                VHS   \n",
      "130258                                                VHS   \n",
      "130259                                           Cassette   \n",
      "130260                                           Cassette   \n",
      "130261                               Gelatin silver print   \n",
      "\n",
      "                                               Dimensions Acquisition Date  \\\n",
      "0                      19 1/8 x 66 1/2\" (48.6 x 168.9 cm)       1996-04-09   \n",
      "1                           16 x 11 3/4\" (40.6 x 29.8 cm)       1995-01-17   \n",
      "2                       13 1/2 x 12 1/2\" (34.3 x 31.8 cm)       1997-01-15   \n",
      "3                               20 x 20\" (50.8 x 50.8 cm)       1995-01-17   \n",
      "4                        15 1/8 x 7 1/2\" (38.4 x 19.1 cm)       1997-01-15   \n",
      "...                                                   ...              ...   \n",
      "130257                                                NaN       2008-10-08   \n",
      "130258                                                NaN       2008-10-08   \n",
      "130259                                                NaN       2008-10-08   \n",
      "130260                                                NaN       2008-10-08   \n",
      "130261  image: 7 1/2 × 7 1/2\" (19.1 × 19.1 cm); sheet:...       2008-10-08   \n",
      "\n",
      "                                                   Credit Catalogue  ...  \\\n",
      "0       Fractional and promised gift of Jo Carole and ...         Y  ...   \n",
      "1       Gift of the architect in honor of Lily Auchinc...         Y  ...   \n",
      "2                  Gift of Jo Carole and Ronald S. Lauder         Y  ...   \n",
      "3       Purchase and partial gift of the architect in ...         Y  ...   \n",
      "4                  Gift of Jo Carole and Ronald S. Lauder         Y  ...   \n",
      "...                                                   ...       ...  ...   \n",
      "130257  The Gilbert and Lila Silverman Fluxus Collecti...         N  ...   \n",
      "130258  The Gilbert and Lila Silverman Fluxus Collecti...         N  ...   \n",
      "130259  The Gilbert and Lila Silverman Fluxus Collecti...         N  ...   \n",
      "130260  The Gilbert and Lila Silverman Fluxus Collecti...         N  ...   \n",
      "130261  The Gilbert and Lila Silverman Fluxus Collecti...         N  ...   \n",
      "\n",
      "       Classification Object Number Diameter (cm)  Circumference (cm)  \\\n",
      "0        Architecture      885.1996           NaN                 NaN   \n",
      "1        Architecture        1.1995           NaN                 NaN   \n",
      "2        Architecture        1.1997           NaN                 NaN   \n",
      "3        Architecture        2.1995           NaN                 NaN   \n",
      "4        Architecture        2.1997           NaN                 NaN   \n",
      "...               ...           ...           ...                 ...   \n",
      "130257          Media        FC5038           NaN                 NaN   \n",
      "130258          Media        FC5039           NaN                 NaN   \n",
      "130259          Media        FC5040           NaN                 NaN   \n",
      "130260          Media        FC5041           NaN                 NaN   \n",
      "130261     Photograph     3841.2008           NaN                 NaN   \n",
      "\n",
      "        Height (cm)  Length (cm)  Width (cm)  Depth (cm)  Weight (kg)  \\\n",
      "0           48.6000          NaN    168.9000         NaN          NaN   \n",
      "1           40.6401          NaN     29.8451         NaN          NaN   \n",
      "2           34.3000          NaN     31.8000         NaN          NaN   \n",
      "3           50.8000          NaN     50.8000         NaN          NaN   \n",
      "4           38.4000          NaN     19.1000         NaN          NaN   \n",
      "...             ...          ...         ...         ...          ...   \n",
      "130257       0.0000          NaN      0.0000         0.0          NaN   \n",
      "130258       0.0000          NaN      0.0000         0.0          NaN   \n",
      "130259       0.0000          NaN      0.0000         0.0          NaN   \n",
      "130260       0.0000          NaN      0.0000         0.0          NaN   \n",
      "130261       0.0000          NaN      0.0000         0.0          NaN   \n",
      "\n",
      "        Duration (s)  \n",
      "0                NaN  \n",
      "1                NaN  \n",
      "2                NaN  \n",
      "3                NaN  \n",
      "4                NaN  \n",
      "...              ...  \n",
      "130257           NaN  \n",
      "130258           NaN  \n",
      "130259           NaN  \n",
      "130260           NaN  \n",
      "130261           NaN  \n",
      "\n",
      "[130262 rows x 21 columns]\n"
     ]
    }
   ],
   "source": [
    "import numpy as np\n",
    "import pandas as pd\n",
    "\n",
    "artistData = pd.read_csv(\"artists.csv\", delimiter = \",\")\n",
    "artworksData = pd.read_csv(\"artworks.csv\", delimiter = \",\")\n",
    "\n",
    "print(artistData , artworksData)"
   ]
  },
  {
   "cell_type": "markdown",
   "metadata": {},
   "source": [
    "The following cell saves all the artists names to a list."
   ]
  },
  {
   "cell_type": "code",
   "execution_count": 3,
   "metadata": {},
   "outputs": [
    {
     "data": {
      "text/plain": [
       "\"artists = artistData['Name'].tolist()\\nprint(artists)\""
      ]
     },
     "execution_count": 3,
     "metadata": {},
     "output_type": "execute_result"
    }
   ],
   "source": [
    "\n",
    "\"\"\"artists = artistData['Name'].tolist()\n",
    "print(artists)\"\"\"\n"
   ]
  },
  {
   "cell_type": "markdown",
   "metadata": {},
   "source": [
    "The following cell saves the column headers to lists."
   ]
  },
  {
   "cell_type": "code",
   "execution_count": 4,
   "metadata": {},
   "outputs": [
    {
     "name": "stdout",
     "output_type": "stream",
     "text": [
      "['Artist ID', 'Name', 'Nationality', 'Gender', 'Birth Year', 'Death Year']\n",
      "['Artwork ID', 'Title', 'Artist ID', 'Name', 'Date', 'Medium', 'Dimensions', 'Acquisition Date', 'Credit', 'Catalogue', 'Department', 'Classification', 'Object Number', 'Diameter (cm)', 'Circumference (cm)', 'Height (cm)', 'Length (cm)', 'Width (cm)', 'Depth (cm)', 'Weight (kg)', 'Duration (s)']\n"
     ]
    }
   ],
   "source": [
    "artistColumns = artistData.columns.tolist()\n",
    "artworksColumns = artworksData.columns.tolist()\n",
    "\n",
    "print (artistColumns)\n",
    "print (artworksColumns)"
   ]
  },
  {
   "cell_type": "markdown",
   "metadata": {},
   "source": [
    "*'Artist ID'* is a column common to both files.\n",
    "Finding columns common to both files on longer lists can be more complex. One way to do this with code is shown below."
   ]
  },
  {
   "cell_type": "code",
   "execution_count": 5,
   "metadata": {},
   "outputs": [
    {
     "name": "stdout",
     "output_type": "stream",
     "text": [
      "['Artist ID', 'Name']\n"
     ]
    }
   ],
   "source": [
    "overlapColumns = []\n",
    "\n",
    "for col in artistColumns:\n",
    "    for otherCol in artworksColumns:\n",
    "        if otherCol == col:\n",
    "            overlapColumns.append(col)\n",
    "\n",
    "print (overlapColumns)"
   ]
  },
  {
   "cell_type": "code",
   "execution_count": 6,
   "metadata": {},
   "outputs": [
    {
     "data": {
      "image/png": "[encoded data removed]",
      "text/plain": [
       "<Figure size 432x288 with 1 Axes>"
      ]
     },
     "metadata": {
      "needs_background": "light"
     },
     "output_type": "display_data"
    }
   ],
   "source": [
    "import matplotlib.pyplot as plt\n",
    "\n",
    "xvals = artworksData['Height (cm)']\n",
    "yvals = artworksData['Width (cm)']\n",
    "\n",
    "plt.plot(xvals, yvals, marker = 'o', linestyle = \"\")\n",
    "plt.show()"
   ]
  },
  {
   "cell_type": "markdown",
   "metadata": {},
   "source": [
    "### Plot Idea 1\n",
    "Plot the sizes of the paintings as semi-transparent quadrilaterals so that the darkest quadrilateral is the most common size. This isn't applicable for all different types of media, so I need to check what types of media there are. This is shown below. I have chosen to use only paintings to start with, then likely include drawings and photographs if that makes sense for the plot."
   ]
  },
  {
   "cell_type": "code",
   "execution_count": 7,
   "metadata": {},
   "outputs": [
    {
     "name": "stdout",
     "output_type": "stream",
     "text": [
      "['Architecture' 'Mies van der Rohe Archive' 'Design' 'Illustrated Book'\n",
      " 'Print' 'Drawing' 'Film' 'Multiple' 'Periodical' 'Photograph' 'Painting'\n",
      " 'Product Design' 'Photography Research/Reference' 'Media' 'Sculpture'\n",
      " 'Textile' 'Installation' 'Video' 'Work on Paper' 'Audio' 'Performance'\n",
      " '(not assigned)' 'Film (object)' 'Ephemera' 'Collage'\n",
      " 'Frank Lloyd Wright Archive' 'Furniture and Interiors' 'Software']\n"
     ]
    }
   ],
   "source": [
    "#Print all unique values within classifcation\n",
    "\n",
    "print(artworksData['Classification'].unique())"
   ]
  },
  {
   "cell_type": "code",
   "execution_count": 8,
   "metadata": {},
   "outputs": [
    {
     "data": {
      "text/plain": [
       "[<matplotlib.lines.Line2D at 0x7f8052479370>]"
      ]
     },
     "execution_count": 8,
     "metadata": {},
     "output_type": "execute_result"
    },
    {
     "data": {
      "image/png": "[encoded data removed]",
      "text/plain": [
       "<Figure size 432x288 with 1 Axes>"
      ]
     },
     "metadata": {
      "needs_background": "light"
     },
     "output_type": "display_data"
    }
   ],
   "source": [
    "#Getting the data into lists that I know how to use and plotting simply on a scattergraph\n",
    "paintingWidth = []\n",
    "paintingHeight = []\n",
    "counter = 0\n",
    "\n",
    "#For each of the pieces of art \"media\" check if it is a painting then add it's dimensions to the list if it is!\n",
    "for media in artworksData['Classification']:\n",
    "    counter += 1\n",
    "    if media == 'Painting':\n",
    "        paintingWidth.append(artworksData['Width (cm)'][counter])\n",
    "        paintingHeight.append(artworksData['Height (cm)'][counter])\n",
    "\n",
    "#alpha parameter should make the plotted dots semi-transparent\n",
    "plt.plot(paintingWidth, paintingHeight, linestyle ='', marker = 'o', alpha = 0.7)"
   ]
  },
  {
   "cell_type": "code",
   "execution_count": 19,
   "metadata": {},
   "outputs": [
    {
     "data": {
      "text/plain": [
       "[<matplotlib.lines.Line2D at 0x7f80360b8df0>]"
      ]
     },
     "execution_count": 19,
     "metadata": {},
     "output_type": "execute_result"
    },
    {
     "data": {
      "image/png": "[encoded data removed]",
      "text/plain": [
       "<Figure size 432x288 with 1 Axes>"
      ]
     },
     "metadata": {
      "needs_background": "light"
     },
     "output_type": "display_data"
    }
   ],
   "source": [
    "import matplotlib.patches as mpatches\n",
    "counter = 0\n",
    "\n",
    "#painting shape\n",
    "for widths in paintingWidth:\n",
    "    rect = mpatches.Rectangle((0,0), widths, paintingHeight[counter],\n",
    "                            alpha = 0.1,\n",
    "                            facecolor = 'red')\n",
    "    counter += 1\n",
    "    plt.gca().add_patch(rect)\n",
    "\n",
    "plt.title('Paintings')\n",
    "plt.xlabel('Width (cm)')\n",
    "plt.ylabel('Height (cm)')\n",
    "plt.plot(paintingWidth, paintingHeight, linestyle ='')"
   ]
  },
  {
   "cell_type": "markdown",
   "metadata": {},
   "source": [
    "The above graph plots quite slowly, so there is quite likely a more efficient way to plot it."
   ]
  },
  {
   "cell_type": "markdown",
   "metadata": {},
   "source": [
    "#### Plot Idea 1-2\n",
    "Plot drawings and photographs separately.\n",
    "Include drawings and photographs as subplots.\n",
    "    Check how many of each of these media there are, to inform who should be the main plot in the three or whether each subplot should be equally sized. (Currently thinking one large plot with two smaller ones stacked to its left or right)"
   ]
  },
  {
   "cell_type": "markdown",
   "metadata": {},
   "source": [
    "**Drawings**"
   ]
  },
  {
   "cell_type": "code",
   "execution_count": 20,
   "metadata": {},
   "outputs": [
    {
     "data": {
      "text/plain": [
       "[<matplotlib.lines.Line2D at 0x7f801dad69a0>]"
      ]
     },
     "execution_count": 20,
     "metadata": {},
     "output_type": "execute_result"
    },
    {
     "data": {
      "image/png": "[encoded data removed]",
      "text/plain": [
       "<Figure size 432x288 with 1 Axes>"
      ]
     },
     "metadata": {
      "needs_background": "light"
     },
     "output_type": "display_data"
    }
   ],
   "source": [
    "#Following the same approach as for the paintings above\n",
    "#Getting the data into lists that I know how to use and plotting simply on a scattergraph\n",
    "drawingWidth = []\n",
    "drawingHeight = []\n",
    "counter = 0\n",
    "\n",
    "#For each of the pieces of art \"media\" check if it is a painting then add it's dimensions to the list if it is!\n",
    "for media in artworksData['Classification']:\n",
    "    counter += 1\n",
    "    if media == 'Drawing':\n",
    "        drawingWidth.append(artworksData['Width (cm)'][counter])\n",
    "        drawingHeight.append(artworksData['Height (cm)'][counter])\n",
    "\n",
    "\n",
    "shapeCounter = 0\n",
    "#painting shape\n",
    "for widths in drawingWidth:\n",
    "    rect = mpatches.Rectangle((0,0), widths, drawingHeight[shapeCounter],\n",
    "                            alpha = 0.1,\n",
    "                            facecolor = 'red')\n",
    "    shapeCounter += 1\n",
    "    plt.gca().add_patch(rect)\n",
    "\n",
    "plt.title('Drawings')\n",
    "plt.xlabel('Width (cm)')\n",
    "plt.ylabel('Height (cm)')\n",
    "plt.plot(drawingWidth, drawingHeight, linestyle ='')"
   ]
  },
  {
   "cell_type": "markdown",
   "metadata": {},
   "source": [
    "Make plotting this type of graph into a function so that it can be used for all the different mediums easily!"
   ]
  },
  {
   "cell_type": "markdown",
   "metadata": {},
   "source": [
    "The below was originally used as Python but all the Photographs are the same size so this will be more effective plotted differently.\n",
    "\n",
    "\"\"\"\n",
    "#Following the same approach as for the paintings above\n",
    "#Getting the data into lists that I know how to use and plotting simply on a scattergraph\n",
    "photoWidth = []\n",
    "photoHeight = []\n",
    "counter2 = 0\n",
    "\n",
    "#For each of the pieces of art \"media\" check if it is a painting then add it's dimensions to the list if it is!\n",
    "for media in artworksData['Classification'].unique():\n",
    "    counter += 1\n",
    "    if media == 'Photograph':\n",
    "        photoWidth.append(artworksData['Width (cm)'][counter2])\n",
    "        photoHeight.append(artworksData['Height (cm)'][counter2])\n",
    "\n",
    "\n",
    "shapeCounter2 = 0\n",
    "#painting shape\n",
    "for widths in photoWidth:\n",
    "    rect = mpatches.Rectangle((0,0), widths, photoHeight[shapeCounter2],\n",
    "                            alpha = 0.1,\n",
    "                            facecolor = 'red')\n",
    "    shapeCounter2 += 1\n",
    "    plt.gca().add_patch(rect)\n",
    "\n",
    "plt.plot(photoWidth, photoHeight, linestyle ='')\n",
    "\"\"\""
   ]
  },
  {
   "cell_type": "markdown",
   "metadata": {},
   "source": [
    "#### Wise Idea 1-3\n",
    "Converting the above process into a reusable function."
   ]
  },
  {
   "cell_type": "code",
   "execution_count": 27,
   "metadata": {},
   "outputs": [
    {
     "data": {
      "image/png": "[encoded data removed]",
      "text/plain": [
       "<Figure size 432x288 with 1 Axes>"
      ]
     },
     "metadata": {
      "needs_background": "light"
     },
     "output_type": "display_data"
    }
   ],
   "source": [
    "def mediaSizePlot(media):\n",
    "    #This function plots the sizes of all the given media in the artworks list as rectangles for comparison\n",
    "    #Getting the data into lists that I know how to use and plotting simply on a scattergraph\n",
    "    Width = []\n",
    "    Height = []\n",
    "    counter = 0\n",
    "\n",
    "    #For each of the pieces of art \"media\" check if it is a painting then add it's dimensions to the list if it is!\n",
    "    for object in artworksData['Classification']:\n",
    "        counter += 1\n",
    "        if object == media:\n",
    "            Width.append(artworksData['Width (cm)'][counter])\n",
    "            Height.append(artworksData['Height (cm)'][counter])\n",
    "\n",
    "\n",
    "    shapeCounter = 0\n",
    "    #painting shape\n",
    "    for widths in Width:\n",
    "        rect = mpatches.Rectangle((0,0), widths, Height[shapeCounter],\n",
    "                                alpha = 0.1,\n",
    "                                facecolor = 'red')\n",
    "        shapeCounter += 1\n",
    "        plt.gca().add_patch(rect)\n",
    "\n",
    "    plt.title(media + 's')\n",
    "    plt.xlabel('Width (cm)')\n",
    "    plt.ylabel('Height (cm)')\n",
    "    plt.plot(Width, Height, linestyle ='')\n",
    "\n",
    "mediaSizePlot('Painting')"
   ]
  },
  {
   "cell_type": "markdown",
   "metadata": {},
   "source": [
    "Improvements that need to be made on the above function \"mediaSizePlot\".\n",
    "* Improve the description/ documentation given at the start of the function\n",
    "* Not all media has a height and width, this should be accounted for.\n",
    "    * Is there a way of telling what dimensions (does it have h x w or depth x length etc) without checking what each of the categories have manually\n",
    "* Improve the look of the chart\n",
    "    - Currently it looks like the sizes are offset from zero, this shouldn't be the case\n",
    "    - Remove the external plot box\n",
    "    - Add an average size rectangle outline\n"
   ]
  },
  {
   "cell_type": "markdown",
   "metadata": {},
   "source": []
  }
 ],
 "metadata": {
  "interpreter": {
   "hash": "40d3a090f54c6569ab1632332b64b2c03c39dcf918b08424e98f38b5ae0af88f"
  },
  "kernelspec": {
   "display_name": "Python 3.8.3 ('base')",
   "language": "python",
   "name": "python3"
  },
  "language_info": {
   "codemirror_mode": {
    "name": "ipython",
    "version": 3
   },
   "file_extension": ".py",
   "mimetype": "text/x-python",
   "name": "python",
   "nbconvert_exporter": "python",
   "pygments_lexer": "ipython3",
   "version": "3.8.3"
  },
  "orig_nbformat": 4
 },
 "nbformat": 4,
 "nbformat_minor": 2
}
